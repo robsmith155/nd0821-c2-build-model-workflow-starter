{
 "cells": [
  {
   "cell_type": "markdown",
   "id": "0cbc0042",
   "metadata": {},
   "source": [
    "In this notebook we perform EDA on the dataset we have been provided for this project. We need to do this before we create a pipeline for the ML workflow.\n",
    "\n",
    "Note that the main point of this project is to understand how the process of EDA works in the context of pipelines during the data exploration phase. Here we just condider the bare minimum EDA to understand the process. In reality we would want to spend much more time on this part."
   ]
  },
  {
   "cell_type": "code",
   "execution_count": 1,
   "id": "7640afb6",
   "metadata": {},
   "outputs": [],
   "source": [
    "import wandb\n",
    "import pandas as pd\n",
    "import pandas_profiling"
   ]
  },
  {
   "cell_type": "markdown",
   "id": "69852fe0",
   "metadata": {},
   "source": [
    "# Read data from Weights & Biases\n",
    "The first step is to read the raw data that we stored in our W&B project into a Pandas DataFrame. To do this, we first need to initialize a new run in W&B using the `init()` method. To this we need to pass the project name where we stored the data for this project (nyc_airbnb). We can also name the experiment using the `group` parameter. Doing this, W&B will start tracking system metrics and console logs.\n",
    "\n",
    "**Important:** Before running this, you need to have logged into your W&B account by running `wandb login <API_KEY>`. You can generate the API key from your account in W&B."
   ]
  },
  {
   "cell_type": "code",
   "execution_count": 2,
   "id": "9436a3ed",
   "metadata": {},
   "outputs": [
    {
     "name": "stderr",
     "output_type": "stream",
     "text": [
      "\u001b[34m\u001b[1mwandb\u001b[0m: Currently logged in as: \u001b[33mrobsmith155\u001b[0m (use `wandb login --relogin` to force relogin)\n",
      "\u001b[34m\u001b[1mwandb\u001b[0m: wandb version 0.12.9 is available!  To upgrade, please run:\n",
      "\u001b[34m\u001b[1mwandb\u001b[0m:  $ pip install wandb --upgrade\n"
     ]
    },
    {
     "data": {
      "text/html": [
       "\n",
       "                Tracking run with wandb version 0.10.31<br/>\n",
       "                Syncing run <strong style=\"color:#cdcd00\">cool-gorge-3</strong> to <a href=\"https://wandb.ai\" target=\"_blank\">Weights & Biases</a> <a href=\"https://docs.wandb.com/integrations/jupyter.html\" target=\"_blank\">(Documentation)</a>.<br/>\n",
       "                Project page: <a href=\"https://wandb.ai/robsmith155/nyc_airbnb\" target=\"_blank\">https://wandb.ai/robsmith155/nyc_airbnb</a><br/>\n",
       "                Run page: <a href=\"https://wandb.ai/robsmith155/nyc_airbnb/runs/1m16n9k4\" target=\"_blank\">https://wandb.ai/robsmith155/nyc_airbnb/runs/1m16n9k4</a><br/>\n",
       "                Run data is saved locally in <code>/home/robsmith155/github/nd0821-c2-build-model-workflow-starter/src/eda/wandb/run-20211207_051059-1m16n9k4</code><br/><br/>\n",
       "            "
      ],
      "text/plain": [
       "<IPython.core.display.HTML object>"
      ]
     },
     "metadata": {},
     "output_type": "display_data"
    }
   ],
   "source": [
    "run = wandb.init(project=\"nyc_airbnb\", group=\"eda\", save_code=True)"
   ]
  },
  {
   "cell_type": "markdown",
   "id": "3f2643d7",
   "metadata": {},
   "source": [
    "**Note:** The `save_code=True` parameter means that the code (in this case a Notebook) will be uploaded and tracked by W&B. "
   ]
  },
  {
   "cell_type": "markdown",
   "id": "50b7c69c",
   "metadata": {},
   "source": [
    "Now we read the file that was downloaded into a DataFrame. Note here that we can use the `file()` method on the W&B artifact to get the path for the file."
   ]
  },
  {
   "cell_type": "code",
   "execution_count": 35,
   "id": "66816dfe",
   "metadata": {},
   "outputs": [],
   "source": [
    "local_path = wandb.use_artifact(\"sample.csv:latest\").file()"
   ]
  },
  {
   "cell_type": "code",
   "execution_count": 36,
   "id": "0c475d1f",
   "metadata": {},
   "outputs": [
    {
     "data": {
      "text/plain": [
       "'./artifacts/sample.csv:v0/sample1.csv'"
      ]
     },
     "execution_count": 36,
     "metadata": {},
     "output_type": "execute_result"
    }
   ],
   "source": [
    "local_path"
   ]
  },
  {
   "cell_type": "code",
   "execution_count": 37,
   "id": "e5ce2a88",
   "metadata": {},
   "outputs": [],
   "source": [
    "df = pd.read_csv(local_path)"
   ]
  },
  {
   "cell_type": "code",
   "execution_count": 38,
   "id": "4b9239fb",
   "metadata": {},
   "outputs": [
    {
     "data": {
      "text/html": [
       "<div>\n",
       "<style scoped>\n",
       "    .dataframe tbody tr th:only-of-type {\n",
       "        vertical-align: middle;\n",
       "    }\n",
       "\n",
       "    .dataframe tbody tr th {\n",
       "        vertical-align: top;\n",
       "    }\n",
       "\n",
       "    .dataframe thead th {\n",
       "        text-align: right;\n",
       "    }\n",
       "</style>\n",
       "<table border=\"1\" class=\"dataframe\">\n",
       "  <thead>\n",
       "    <tr style=\"text-align: right;\">\n",
       "      <th></th>\n",
       "      <th>id</th>\n",
       "      <th>name</th>\n",
       "      <th>host_id</th>\n",
       "      <th>host_name</th>\n",
       "      <th>neighbourhood_group</th>\n",
       "      <th>neighbourhood</th>\n",
       "      <th>latitude</th>\n",
       "      <th>longitude</th>\n",
       "      <th>room_type</th>\n",
       "      <th>price</th>\n",
       "      <th>minimum_nights</th>\n",
       "      <th>number_of_reviews</th>\n",
       "      <th>last_review</th>\n",
       "      <th>reviews_per_month</th>\n",
       "      <th>calculated_host_listings_count</th>\n",
       "      <th>availability_365</th>\n",
       "    </tr>\n",
       "  </thead>\n",
       "  <tbody>\n",
       "    <tr>\n",
       "      <th>0</th>\n",
       "      <td>9138664</td>\n",
       "      <td>Private Lg Room 15 min to Manhattan</td>\n",
       "      <td>47594947</td>\n",
       "      <td>Iris</td>\n",
       "      <td>Queens</td>\n",
       "      <td>Sunnyside</td>\n",
       "      <td>40.74271</td>\n",
       "      <td>-73.92493</td>\n",
       "      <td>Private room</td>\n",
       "      <td>74</td>\n",
       "      <td>2</td>\n",
       "      <td>6</td>\n",
       "      <td>2019-05-26</td>\n",
       "      <td>0.13</td>\n",
       "      <td>1</td>\n",
       "      <td>5</td>\n",
       "    </tr>\n",
       "    <tr>\n",
       "      <th>1</th>\n",
       "      <td>31444015</td>\n",
       "      <td>TIME SQUARE CHARMING ONE BED IN HELL'S KITCHEN...</td>\n",
       "      <td>8523790</td>\n",
       "      <td>Johlex</td>\n",
       "      <td>Manhattan</td>\n",
       "      <td>Hell's Kitchen</td>\n",
       "      <td>40.76682</td>\n",
       "      <td>-73.98878</td>\n",
       "      <td>Entire home/apt</td>\n",
       "      <td>170</td>\n",
       "      <td>3</td>\n",
       "      <td>0</td>\n",
       "      <td>NaN</td>\n",
       "      <td>NaN</td>\n",
       "      <td>1</td>\n",
       "      <td>188</td>\n",
       "    </tr>\n",
       "    <tr>\n",
       "      <th>2</th>\n",
       "      <td>8741020</td>\n",
       "      <td>Voted #1 Location Quintessential 1BR W Village...</td>\n",
       "      <td>45854238</td>\n",
       "      <td>John</td>\n",
       "      <td>Manhattan</td>\n",
       "      <td>West Village</td>\n",
       "      <td>40.73631</td>\n",
       "      <td>-74.00611</td>\n",
       "      <td>Entire home/apt</td>\n",
       "      <td>245</td>\n",
       "      <td>3</td>\n",
       "      <td>51</td>\n",
       "      <td>2018-09-19</td>\n",
       "      <td>1.12</td>\n",
       "      <td>1</td>\n",
       "      <td>0</td>\n",
       "    </tr>\n",
       "    <tr>\n",
       "      <th>3</th>\n",
       "      <td>34602077</td>\n",
       "      <td>Spacious 1 bedroom apartment 15min from Manhattan</td>\n",
       "      <td>261055465</td>\n",
       "      <td>Regan</td>\n",
       "      <td>Queens</td>\n",
       "      <td>Astoria</td>\n",
       "      <td>40.76424</td>\n",
       "      <td>-73.92351</td>\n",
       "      <td>Entire home/apt</td>\n",
       "      <td>125</td>\n",
       "      <td>3</td>\n",
       "      <td>1</td>\n",
       "      <td>2019-05-24</td>\n",
       "      <td>0.65</td>\n",
       "      <td>1</td>\n",
       "      <td>13</td>\n",
       "    </tr>\n",
       "    <tr>\n",
       "      <th>4</th>\n",
       "      <td>23203149</td>\n",
       "      <td>Big beautiful bedroom in huge Bushwick apartment</td>\n",
       "      <td>143460</td>\n",
       "      <td>Megan</td>\n",
       "      <td>Brooklyn</td>\n",
       "      <td>Bushwick</td>\n",
       "      <td>40.69839</td>\n",
       "      <td>-73.92044</td>\n",
       "      <td>Private room</td>\n",
       "      <td>65</td>\n",
       "      <td>2</td>\n",
       "      <td>8</td>\n",
       "      <td>2019-06-23</td>\n",
       "      <td>0.52</td>\n",
       "      <td>2</td>\n",
       "      <td>8</td>\n",
       "    </tr>\n",
       "  </tbody>\n",
       "</table>\n",
       "</div>"
      ],
      "text/plain": [
       "         id                                               name    host_id  \\\n",
       "0   9138664                Private Lg Room 15 min to Manhattan   47594947   \n",
       "1  31444015  TIME SQUARE CHARMING ONE BED IN HELL'S KITCHEN...    8523790   \n",
       "2   8741020  Voted #1 Location Quintessential 1BR W Village...   45854238   \n",
       "3  34602077  Spacious 1 bedroom apartment 15min from Manhattan  261055465   \n",
       "4  23203149   Big beautiful bedroom in huge Bushwick apartment     143460   \n",
       "\n",
       "  host_name neighbourhood_group   neighbourhood  latitude  longitude  \\\n",
       "0      Iris              Queens       Sunnyside  40.74271  -73.92493   \n",
       "1    Johlex           Manhattan  Hell's Kitchen  40.76682  -73.98878   \n",
       "2      John           Manhattan    West Village  40.73631  -74.00611   \n",
       "3     Regan              Queens         Astoria  40.76424  -73.92351   \n",
       "4     Megan            Brooklyn        Bushwick  40.69839  -73.92044   \n",
       "\n",
       "         room_type  price  minimum_nights  number_of_reviews last_review  \\\n",
       "0     Private room     74               2                  6  2019-05-26   \n",
       "1  Entire home/apt    170               3                  0         NaN   \n",
       "2  Entire home/apt    245               3                 51  2018-09-19   \n",
       "3  Entire home/apt    125               3                  1  2019-05-24   \n",
       "4     Private room     65               2                  8  2019-06-23   \n",
       "\n",
       "   reviews_per_month  calculated_host_listings_count  availability_365  \n",
       "0               0.13                               1                 5  \n",
       "1                NaN                               1               188  \n",
       "2               1.12                               1                 0  \n",
       "3               0.65                               1                13  \n",
       "4               0.52                               2                 8  "
      ]
     },
     "execution_count": 38,
     "metadata": {},
     "output_type": "execute_result"
    }
   ],
   "source": [
    "df.head()"
   ]
  },
  {
   "cell_type": "code",
   "execution_count": 39,
   "id": "fd197a87",
   "metadata": {},
   "outputs": [
    {
     "data": {
      "text/plain": [
       "Index(['id', 'name', 'host_id', 'host_name', 'neighbourhood_group',\n",
       "       'neighbourhood', 'latitude', 'longitude', 'room_type', 'price',\n",
       "       'minimum_nights', 'number_of_reviews', 'last_review',\n",
       "       'reviews_per_month', 'calculated_host_listings_count',\n",
       "       'availability_365'],\n",
       "      dtype='object')"
      ]
     },
     "execution_count": 39,
     "metadata": {},
     "output_type": "execute_result"
    }
   ],
   "source": [
    "df.columns"
   ]
  },
  {
   "cell_type": "code",
   "execution_count": 40,
   "id": "885e0f06",
   "metadata": {},
   "outputs": [
    {
     "name": "stdout",
     "output_type": "stream",
     "text": [
      "<class 'pandas.core.frame.DataFrame'>\n",
      "RangeIndex: 20000 entries, 0 to 19999\n",
      "Data columns (total 16 columns):\n",
      " #   Column                          Non-Null Count  Dtype  \n",
      "---  ------                          --------------  -----  \n",
      " 0   id                              20000 non-null  int64  \n",
      " 1   name                            19993 non-null  object \n",
      " 2   host_id                         20000 non-null  int64  \n",
      " 3   host_name                       19992 non-null  object \n",
      " 4   neighbourhood_group             20000 non-null  object \n",
      " 5   neighbourhood                   20000 non-null  object \n",
      " 6   latitude                        20000 non-null  float64\n",
      " 7   longitude                       20000 non-null  float64\n",
      " 8   room_type                       20000 non-null  object \n",
      " 9   price                           20000 non-null  int64  \n",
      " 10  minimum_nights                  20000 non-null  int64  \n",
      " 11  number_of_reviews               20000 non-null  int64  \n",
      " 12  last_review                     15877 non-null  object \n",
      " 13  reviews_per_month               15877 non-null  float64\n",
      " 14  calculated_host_listings_count  20000 non-null  int64  \n",
      " 15  availability_365                20000 non-null  int64  \n",
      "dtypes: float64(3), int64(7), object(6)\n",
      "memory usage: 2.4+ MB\n"
     ]
    }
   ],
   "source": [
    "df.info()"
   ]
  },
  {
   "cell_type": "markdown",
   "id": "6ecbc747",
   "metadata": {},
   "source": [
    "# Analyse the data using pandas-profiling"
   ]
  },
  {
   "cell_type": "markdown",
   "id": "62ffd00c",
   "metadata": {},
   "source": [
    "Here we will use the `pandas-profiling` package to generate a report that allows us to easily identify issues in the dataset."
   ]
  },
  {
   "cell_type": "code",
   "execution_count": 41,
   "id": "83e0a9c9",
   "metadata": {},
   "outputs": [
    {
     "data": {
      "application/vnd.jupyter.widget-view+json": {
       "model_id": "98f53c77eb314f058d4585d9a86d3a05",
       "version_major": 2,
       "version_minor": 0
      },
      "text/plain": [
       "Summarize dataset:   0%|          | 0/29 [00:00<?, ?it/s]"
      ]
     },
     "metadata": {},
     "output_type": "display_data"
    },
    {
     "data": {
      "application/vnd.jupyter.widget-view+json": {
       "model_id": "dd8f4fdd1edc47259327d79a3ff7d598",
       "version_major": 2,
       "version_minor": 0
      },
      "text/plain": [
       "Generate report structure:   0%|          | 0/1 [00:00<?, ?it/s]"
      ]
     },
     "metadata": {},
     "output_type": "display_data"
    },
    {
     "data": {
      "application/vnd.jupyter.widget-view+json": {
       "model_id": "",
       "version_major": 2,
       "version_minor": 0
      },
      "text/plain": [
       "Render widgets:   0%|          | 0/1 [00:00<?, ?it/s]"
      ]
     },
     "metadata": {},
     "output_type": "display_data"
    },
    {
     "data": {
      "application/vnd.jupyter.widget-view+json": {
       "model_id": "3b4b3327f3fe4cd1b3db39d55273c5de",
       "version_major": 2,
       "version_minor": 0
      },
      "text/plain": [
       "VBox(children=(Tab(children=(Tab(children=(GridBox(children=(VBox(children=(GridspecLayout(children=(HTML(valu…"
      ]
     },
     "metadata": {},
     "output_type": "display_data"
    }
   ],
   "source": [
    "profile = pandas_profiling.ProfileReport(df)\n",
    "profile.to_widgets()"
   ]
  },
  {
   "cell_type": "markdown",
   "id": "5f4b0b07",
   "metadata": {},
   "source": [
    "## Data issues and observations\n",
    "Below are some of the issues that have been identified from the report above:\n",
    "- The `last_review` and `reviews_per_month` features are both missing in around 1/5 of the samples\n",
    "- The `last_review` feature is a date but is currently a string\n",
    "- The `number_of_reviews` and `availability_365` features both contain a high percentage of zeros (21% and 36% respectively)\n",
    "- The `minimum_nights` variable is highly skewed, with a mean value of 7 days but maximum value of 1250. Since it is likely that someone would get a reduced rate for a long term retal, it might be worth considering removing these outliers from the dataset.\n",
    "- The `price` variable (which is what we want to predict) is also highly skewed, with a median price of 105 but maximum of 10000. There are also a few entries which are zero, which doesn't make sense. We may want to remove these outliers.\n",
    "- The `id` feature is not useful as it is a unique value for each sample\n",
    "- The `name` and `host_name` features are also probably not useful since most entries have a unique string (i.e. high cardinality). We have the `host_id` feature which is a unique id for each host.\n",
    "- The dataset contains properties from five districts in New York, but the majority (~80%) are in Manhattan or Brooklyn. Would need to check whether the model performs well on the other districts (Queens, Bronx, Staten Island), because the performance will be dominated by the main two\n",
    "- Under the `room_type` feature, we see that almost all of the properties for rent are either for the entire home or for a private room. Their are also a small amount of shared room examples (444/20000).\n",
    "- The `calculated_host_listings_count` is also highly skewed, with a median value of one, but some outliers of up to 327\n",
    "\n",
    "\n",
    "\n"
   ]
  },
  {
   "cell_type": "markdown",
   "id": "c48954f8",
   "metadata": {},
   "source": [
    "# Fix data issues"
   ]
  },
  {
   "cell_type": "markdown",
   "id": "2994c2c3",
   "metadata": {},
   "source": [
    "Now we will develop some code to fix some of the issues identified above. Note that we will impute missing values in the inference pipeline, so will not cover that here. The tasks we do here are specific to this data. We will need to make sure we impute missig values in data used for inference as well."
   ]
  },
  {
   "cell_type": "markdown",
   "id": "1a97658b",
   "metadata": {},
   "source": [
    "## Remove outliers in the price column\n",
    "We are told that after talking to stakeholders it is decided to consider from a minimum of $10 to a maximum of 350 per night. Therefore we will remove the rows where the price is outside of this range."
   ]
  },
  {
   "cell_type": "code",
   "execution_count": 42,
   "id": "31f2e1cb",
   "metadata": {},
   "outputs": [
    {
     "data": {
      "text/plain": [
       "20000"
      ]
     },
     "execution_count": 42,
     "metadata": {},
     "output_type": "execute_result"
    }
   ],
   "source": [
    "len(df)"
   ]
  },
  {
   "cell_type": "code",
   "execution_count": 43,
   "id": "0dcc30b8",
   "metadata": {},
   "outputs": [],
   "source": [
    "min_price = 10\n",
    "max_price = 350\n",
    "idx = df['price'].between(min_price, max_price)\n",
    "df_edited = df[idx].copy()"
   ]
  },
  {
   "cell_type": "code",
   "execution_count": 44,
   "id": "c12fdd95",
   "metadata": {},
   "outputs": [
    {
     "data": {
      "text/plain": [
       "19001"
      ]
     },
     "execution_count": 44,
     "metadata": {},
     "output_type": "execute_result"
    }
   ],
   "source": [
    "len(df_edited)"
   ]
  },
  {
   "cell_type": "code",
   "execution_count": 45,
   "id": "936b2925",
   "metadata": {},
   "outputs": [
    {
     "data": {
      "text/plain": [
       "(10, 350)"
      ]
     },
     "execution_count": 45,
     "metadata": {},
     "output_type": "execute_result"
    }
   ],
   "source": [
    "df_edited['price'].min(), df_edited['price'].max()"
   ]
  },
  {
   "cell_type": "markdown",
   "id": "d554a0a6",
   "metadata": {},
   "source": [
    "## Convert last_review to a datetime type\n",
    "Now we change the type of the `lst_review` column from a string to be a datetime column."
   ]
  },
  {
   "cell_type": "code",
   "execution_count": 46,
   "id": "37843216",
   "metadata": {},
   "outputs": [],
   "source": [
    "df_edited['last_review'] = pd.to_datetime(df_edited['last_review'])"
   ]
  },
  {
   "cell_type": "code",
   "execution_count": 47,
   "id": "5521c1f2",
   "metadata": {},
   "outputs": [
    {
     "data": {
      "text/plain": [
       "0       2019-05-26\n",
       "1              NaT\n",
       "2       2018-09-19\n",
       "3       2019-05-24\n",
       "4       2019-06-23\n",
       "           ...    \n",
       "19995   2016-08-27\n",
       "19996   2019-05-21\n",
       "19997   2019-05-23\n",
       "19998   2019-07-01\n",
       "19999   2019-04-28\n",
       "Name: last_review, Length: 19001, dtype: datetime64[ns]"
      ]
     },
     "execution_count": 47,
     "metadata": {},
     "output_type": "execute_result"
    }
   ],
   "source": [
    "df_edited['last_review']"
   ]
  },
  {
   "cell_type": "markdown",
   "id": "05eb5ce4",
   "metadata": {},
   "source": [
    "# Remove outliers in the minimum_nights feature\n",
    "The vast majority of inputs have a `minimum_nights` value of one month or less.There are a few entries with very large values (e.g. one year), which will likely not reflect the rest of the data since you would expect to get a discount for such a long rental. Therefore I will remove samples where the minimum nights is more than 50."
   ]
  },
  {
   "cell_type": "code",
   "execution_count": 48,
   "id": "c8dd7b3b",
   "metadata": {},
   "outputs": [
    {
     "data": {
      "text/plain": [
       "1250"
      ]
     },
     "execution_count": 48,
     "metadata": {},
     "output_type": "execute_result"
    }
   ],
   "source": [
    "df_edited['minimum_nights'].max()"
   ]
  },
  {
   "cell_type": "code",
   "execution_count": 27,
   "id": "f6e75ec8",
   "metadata": {},
   "outputs": [
    {
     "data": {
      "text/plain": [
       "<AxesSubplot:>"
      ]
     },
     "execution_count": 27,
     "metadata": {},
     "output_type": "execute_result"
    },
    {
     "data": {
      "image/png": "[encoded data removed]",
      "text/plain": [
       "<Figure size 432x288 with 1 Axes>"
      ]
     },
     "metadata": {
      "needs_background": "light"
     },
     "output_type": "display_data"
    }
   ],
   "source": [
    "df_edited[df_edited['minimum_nights'].between(0,50)]['minimum_nights'].hist(bins=100)"
   ]
  },
  {
   "cell_type": "code",
   "execution_count": 49,
   "id": "38734e4e",
   "metadata": {},
   "outputs": [
    {
     "data": {
      "text/plain": [
       "19001"
      ]
     },
     "execution_count": 49,
     "metadata": {},
     "output_type": "execute_result"
    }
   ],
   "source": [
    "len(df_edited)"
   ]
  },
  {
   "cell_type": "code",
   "execution_count": 50,
   "id": "c2e73cd4",
   "metadata": {},
   "outputs": [],
   "source": [
    "df_edited = df_edited[df_edited['minimum_nights'].between(0,50)]"
   ]
  },
  {
   "cell_type": "code",
   "execution_count": 51,
   "id": "eb564e0e",
   "metadata": {},
   "outputs": [
    {
     "data": {
      "text/plain": [
       "18842"
      ]
     },
     "execution_count": 51,
     "metadata": {},
     "output_type": "execute_result"
    }
   ],
   "source": [
    "len(df_edited)"
   ]
  },
  {
   "cell_type": "code",
   "execution_count": 52,
   "id": "9afb9eed",
   "metadata": {},
   "outputs": [
    {
     "data": {
      "text/plain": [
       "50"
      ]
     },
     "execution_count": 52,
     "metadata": {},
     "output_type": "execute_result"
    }
   ],
   "source": [
    "df_edited['minimum_nights'].max()"
   ]
  },
  {
   "cell_type": "markdown",
   "id": "7f597004",
   "metadata": {},
   "source": [
    "# Check edited data\n",
    "Now let's make sure that we don't have any major issues remaining. Note that missing values will be taken care of later."
   ]
  },
  {
   "cell_type": "code",
   "execution_count": 54,
   "id": "d01fd031",
   "metadata": {},
   "outputs": [
    {
     "data": {
      "application/vnd.jupyter.widget-view+json": {
       "model_id": "b57976b3a4fe47d28d3cde4c1bdf70fb",
       "version_major": 2,
       "version_minor": 0
      },
      "text/plain": [
       "Summarize dataset:   0%|          | 0/30 [00:00<?, ?it/s]"
      ]
     },
     "metadata": {},
     "output_type": "display_data"
    },
    {
     "data": {
      "application/vnd.jupyter.widget-view+json": {
       "model_id": "c5c1d3ce020546a0b559388b368c39fc",
       "version_major": 2,
       "version_minor": 0
      },
      "text/plain": [
       "Generate report structure:   0%|          | 0/1 [00:00<?, ?it/s]"
      ]
     },
     "metadata": {},
     "output_type": "display_data"
    },
    {
     "data": {
      "application/vnd.jupyter.widget-view+json": {
       "model_id": "",
       "version_major": 2,
       "version_minor": 0
      },
      "text/plain": [
       "Render widgets:   0%|          | 0/1 [00:00<?, ?it/s]"
      ]
     },
     "metadata": {},
     "output_type": "display_data"
    },
    {
     "data": {
      "application/vnd.jupyter.widget-view+json": {
       "model_id": "63216b1515d34c5fb3965ae29ccc1d3d",
       "version_major": 2,
       "version_minor": 0
      },
      "text/plain": [
       "VBox(children=(Tab(children=(Tab(children=(GridBox(children=(VBox(children=(GridspecLayout(children=(HTML(valu…"
      ]
     },
     "metadata": {},
     "output_type": "display_data"
    }
   ],
   "source": [
    "profile = pandas_profiling.ProfileReport(df_edited)\n",
    "profile.to_widgets()"
   ]
  },
  {
   "cell_type": "markdown",
   "id": "10638153",
   "metadata": {},
   "source": [
    "# Addional steps for inference pipeline\n",
    "The steps applied here were specific things to fix for the training data. A number of other steps also need to be performed, but will also need to be applied to the data during inference. These include:\n",
    "\n",
    "- Impute missing values\n",
    "- Drop unimportant columns (such as id, name and host_name)\n",
    "\n",
    "The columns that have many zeros are probably okay (e.g. it is plausible that they have no review or that they have no availability."
   ]
  },
  {
   "cell_type": "markdown",
   "id": "997ce8d1",
   "metadata": {},
   "source": [
    "# End W&B run\n",
    "Now we need to end the W&B run so that it will upload the code."
   ]
  },
  {
   "cell_type": "code",
   "execution_count": 55,
   "id": "6627df71",
   "metadata": {},
   "outputs": [
    {
     "data": {
      "text/html": [
       "<br/>Waiting for W&B process to finish, PID 31101<br/>Program ended successfully."
      ],
      "text/plain": [
       "<IPython.core.display.HTML object>"
      ]
     },
     "metadata": {},
     "output_type": "display_data"
    },
    {
     "data": {
      "application/vnd.jupyter.widget-view+json": {
       "model_id": "",
       "version_major": 2,
       "version_minor": 0
      },
      "text/plain": [
       "VBox(children=(Label(value=' 0.46MB of 0.46MB uploaded (0.00MB deduped)\\r'), FloatProgress(value=1.0, max=1.0)…"
      ]
     },
     "metadata": {},
     "output_type": "display_data"
    },
    {
     "data": {
      "text/html": [
       "Find user logs for this run at: <code>/home/robsmith155/github/nd0821-c2-build-model-workflow-starter/src/eda/wandb/run-20211207_051059-1m16n9k4/logs/debug.log</code>"
      ],
      "text/plain": [
       "<IPython.core.display.HTML object>"
      ]
     },
     "metadata": {},
     "output_type": "display_data"
    },
    {
     "data": {
      "text/html": [
       "Find internal logs for this run at: <code>/home/robsmith155/github/nd0821-c2-build-model-workflow-starter/src/eda/wandb/run-20211207_051059-1m16n9k4/logs/debug-internal.log</code>"
      ],
      "text/plain": [
       "<IPython.core.display.HTML object>"
      ]
     },
     "metadata": {},
     "output_type": "display_data"
    },
    {
     "data": {
      "text/html": [
       "Synced 6 W&B file(s), 0 media file(s), 12 artifact file(s) and 1 other file(s)"
      ],
      "text/plain": [
       "<IPython.core.display.HTML object>"
      ]
     },
     "metadata": {},
     "output_type": "display_data"
    },
    {
     "data": {
      "text/html": [
       "\n",
       "                    <br/>Synced <strong style=\"color:#cdcd00\">cool-gorge-3</strong>: <a href=\"https://wandb.ai/robsmith155/nyc_airbnb/runs/1m16n9k4\" target=\"_blank\">https://wandb.ai/robsmith155/nyc_airbnb/runs/1m16n9k4</a><br/>\n",
       "                "
      ],
      "text/plain": [
       "<IPython.core.display.HTML object>"
      ]
     },
     "metadata": {},
     "output_type": "display_data"
    }
   ],
   "source": [
    "run.finish()"
   ]
  }
 ],
 "metadata": {
  "kernelspec": {
   "display_name": "Python 3 (ipykernel)",
   "language": "python",
   "name": "python3"
  },
  "language_info": {
   "codemirror_mode": {
    "name": "ipython",
    "version": 3
   },
   "file_extension": ".py",
   "mimetype": "text/x-python",
   "name": "python",
   "nbconvert_exporter": "python",
   "pygments_lexer": "ipython3",
   "version": "3.9.7"
  }
 },
 "nbformat": 4,
 "nbformat_minor": 5
}
